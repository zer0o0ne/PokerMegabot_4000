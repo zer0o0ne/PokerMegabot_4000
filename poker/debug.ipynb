{
 "cells": [
  {
   "cell_type": "code",
   "execution_count": 1,
   "metadata": {},
   "outputs": [],
   "source": [
    "from brains import SimpleBrain\n",
    "from modules import *\n",
    "from agents import SimpleAgent\n",
    "from random import randint\n",
    "import matplotlib.pyplot as plt\n",
    "import torch"
   ]
  },
  {
   "cell_type": "code",
   "execution_count": 2,
   "metadata": {},
   "outputs": [],
   "source": [
    "agent_args = {\n",
    "    \"start_args\" : {\n",
    "        \"dim_in\" : 15, \n",
    "        \"hidden_dim\" : 30,\n",
    "        \"dim_out\" : 20, \n",
    "        \"depth\" : 3\n",
    "    },\n",
    "\n",
    "    \"module_args\" : {\n",
    "        \"First\" : {\n",
    "            \"dim_in\" : 20, \n",
    "            \"hidden_dim\" : 30,\n",
    "            \"dim_out\" : 25, \n",
    "            \"depth\" : 3\n",
    "        },\n",
    "        \n",
    "        \"YA hz kak nazvat, eto output\" : {\n",
    "            \"dim_in\" : 25, \n",
    "            \"hidden_dim\" : 30,\n",
    "            \"dim_out\" : 20, \n",
    "            \"depth\" : 3\n",
    "        }\n",
    "    },\n",
    "\n",
    "    \"modules\" : {\n",
    "        \"First\" : Numbered_MLP,\n",
    "        \"YA hz kak nazvat, eto output\" : Numbered_MLP\n",
    "    }\n",
    "}"
   ]
  },
  {
   "cell_type": "code",
   "execution_count": 3,
   "metadata": {},
   "outputs": [],
   "source": [
    "# This function should be rewrite after env would be build\n",
    "def loss(action, reward):\n",
    "    return torch.cat(action).sum() * reward"
   ]
  },
  {
   "cell_type": "code",
   "execution_count": 5,
   "metadata": {},
   "outputs": [],
   "source": [
    "brain = SimpleBrain(35, loss, SimpleAgent, agent_args)"
   ]
  },
  {
   "cell_type": "code",
   "execution_count": 6,
   "metadata": {},
   "outputs": [],
   "source": [
    "# There is an example of use of Brain, we need new class to manage this with\n",
    "# Also we need environment in that class\n",
    "\n",
    "num_games = 100\n",
    "n_players = 9\n",
    "\n",
    "utg_losses = []\n",
    "hj_losses = []\n",
    "\n",
    "for game in range(num_games):\n",
    "    if game % 5 == 0:\n",
    "        brain.sit(n_players, list(range(3, 20, 2)))\n",
    "\n",
    "    actions = {i : [] for i in range(n_players)}\n",
    "    \n",
    "    #preflop, there is only utg and hj in a game\n",
    "    actions[0].append(brain.step(0, 3))\n",
    "    actions[4].append(brain.step(4, 5))\n",
    "\n",
    "    #flop\n",
    "    actions[0].append(brain.step(0, 1))\n",
    "    actions[4].append(brain.step(4, 9))\n",
    "    actions[0].append(brain.step(0, 11))\n",
    "\n",
    "    #turn\n",
    "    actions[0].append(brain.step(0, 14))\n",
    "    actions[4].append(brain.step(4, 3))\n",
    "\n",
    "    #river\n",
    "    actions[0].append(brain.step(0, 5))\n",
    "    actions[4].append(brain.step(4, 9))\n",
    "\n",
    "    utg_losses.append(brain.train(0, actions[0], 1))\n",
    "    hj_losses.append(brain.train(4, actions[4], -1))"
   ]
  },
  {
   "cell_type": "code",
   "execution_count": 7,
   "metadata": {},
   "outputs": [
    {
     "data": {
      "image/png": "[encoded data removed]",
      "text/plain": [
       "<Figure size 640x480 with 1 Axes>"
      ]
     },
     "metadata": {},
     "output_type": "display_data"
    }
   ],
   "source": [
    "plt.plot(utg_losses, label = \"utg\")\n",
    "plt.plot(hj_losses, label = \"hj\")\n",
    "plt.legend()\n",
    "plt.show()"
   ]
  },
  {
   "cell_type": "code",
   "execution_count": 8,
   "metadata": {},
   "outputs": [
    {
     "name": "stdout",
     "output_type": "stream",
     "text": [
      "Yes daddy\n"
     ]
    }
   ],
   "source": [
    "print(\"Yes daddy\")"
   ]
  }
 ],
 "metadata": {
  "kernelspec": {
   "display_name": "Python 3.8.13 ('poker')",
   "language": "python",
   "name": "python3"
  },
  "language_info": {
   "codemirror_mode": {
    "name": "ipython",
    "version": 3
   },
   "file_extension": ".py",
   "mimetype": "text/x-python",
   "name": "python",
   "nbconvert_exporter": "python",
   "pygments_lexer": "ipython3",
   "version": "3.8.13"
  },
  "orig_nbformat": 4,
  "vscode": {
   "interpreter": {
    "hash": "941ddece0b727abb90c75074ca5119195c0fcc502f0e8b0368b5c13152b170b2"
   }
  }
 },
 "nbformat": 4,
 "nbformat_minor": 2
}
