{
 "cells": [
  {
   "cell_type": "code",
   "execution_count": 1,
   "metadata": {},
   "outputs": [],
   "source": [
    "from env.dealers import SimpleDealer\n",
    "from env.table import Table\n",
    "\n",
    "from player.agents import SimpleAgent\n",
    "from player.modules import *\n",
    "from player.brains import SimpleBrain, NeuralHistoryCompressor\n",
    "\n",
    "from utils import ConditionalExpectation_Loss"
   ]
  },
  {
   "cell_type": "code",
   "execution_count": 2,
   "metadata": {},
   "outputs": [],
   "source": [
    "num_players = 9\n",
    "num_agents = 12\n",
    "num_cards = 52 + 1\n",
    "bins = 11\n",
    "actions_dim = bins + 4\n",
    "embedding_hidden_dim = 7\n",
    "feedforward_dim = 24\n",
    "mlp_hidden = 36\n",
    "embedding_output_dim = 2 + 5 * embedding_hidden_dim + actions_dim # check that it is equal to 3 + 7 * embedding_hidden_dim\n",
    "history_compressor_depth = 100\n",
    "start_credits = 1000\n",
    "\n",
    "lstm_params = [\n",
    "    {\n",
    "        \"input_size\": embedding_output_dim,\n",
    "        \"hidden_size\": actions_dim,\n",
    "        \"num_layers\": 1\n",
    "    },\n",
    "\n",
    "    {\n",
    "        \"input_size\": actions_dim,\n",
    "        \"hidden_size\": actions_dim,\n",
    "        \"num_layers\": 1\n",
    "    },\n",
    "\n",
    "    {\n",
    "        \"input_size\": actions_dim,\n",
    "        \"hidden_size\": actions_dim,\n",
    "        \"num_layers\": 1\n",
    "    }\n",
    "]\n",
    "\n",
    "extractor_parameters = {\n",
    "    \"d_model\": embedding_output_dim, \n",
    "    \"nhead\": 4, \n",
    "    \"num_encoder_layers\": 4, \n",
    "    \"num_decoder_layers\": 4, \n",
    "    \"dim_feedforward\": feedforward_dim\n",
    "}\n",
    "\n",
    "functions = [Fourier, Fourier, Fourier]\n",
    "function_args = [\n",
    "    {\"dim_in\": embedding_hidden_dim * 3, \"depth\": 15},\n",
    "    {\"dim_in\": embedding_hidden_dim, \"depth\": 15},\n",
    "    {\"dim_in\": embedding_hidden_dim, \"depth\": 15},\n",
    "]\n",
    "\n",
    "agent_args = {\n",
    "    \"start_type\": TransformersInput,\n",
    "    \"start_args\" : {\n",
    "        \"first_args\" : {\n",
    "            \"d_model\": embedding_output_dim, \n",
    "            \"nhead\": 4, \n",
    "            \"num_encoder_layers\": 4, \n",
    "            \"num_decoder_layers\": 4, \n",
    "            \"dim_feedforward\": feedforward_dim\n",
    "        }, \n",
    "        \"second_args\" : {\n",
    "            \"d_model\": 2 * actions_dim, \n",
    "            \"nhead\": 5, \n",
    "            \"num_encoder_layers\": 4, \n",
    "            \"num_decoder_layers\": 4, \n",
    "            \"dim_feedforward\": feedforward_dim\n",
    "        }\n",
    "    },\n",
    "\n",
    "    \"module_args\" : {\n",
    "        \"First_Numbered_MLP\" : {\n",
    "            \"dim_in\" : 2 * actions_dim + embedding_output_dim, \n",
    "            \"hidden_dim\" : mlp_hidden,\n",
    "            \"dim_out\" : actions_dim, \n",
    "            \"depth\" : 3, \n",
    "            \"num_agents\": num_agents\n",
    "        },\n",
    "        \n",
    "        \"FourierOutput\" : {\n",
    "            \"dim_in\" : actions_dim, \n",
    "            \"dim_encoder_output\": 2 * actions_dim + embedding_output_dim,\n",
    "            \"hidden_dim\" : mlp_hidden,\n",
    "            \"shapes\" : [[embedding_hidden_dim * 3, 15], [embedding_hidden_dim, 15], [embedding_hidden_dim, 15]], \n",
    "            \"depth\" : 3,\n",
    "            \"num_agents\": num_agents\n",
    "        }\n",
    "    },\n",
    "\n",
    "    \"modules\" : {\n",
    "        \"First_Numbered_MLP\" : Numbered_MLP,\n",
    "        \"FourierOutput\" : FourierOutput\n",
    "    }\n",
    "}"
   ]
  },
  {
   "cell_type": "code",
   "execution_count": 3,
   "metadata": {},
   "outputs": [],
   "source": [
    "table = Table(num_players, bins = bins)\n",
    "\n",
    "loss = ConditionalExpectation_Loss(start_credits, function_args, functions)\n",
    "memory = NeuralHistoryCompressor(num_agents, history_compressor_depth, lstm_params, extractor_parameters, train_freq = 5)\n",
    "embedding = SimpleEmbedding(num_cards, embedding_hidden_dim, num_players, start_credits)\n",
    "\n",
    "brain = SimpleBrain(num_agents, loss, memory, SimpleAgent, embedding, agent_args)"
   ]
  },
  {
   "cell_type": "code",
   "execution_count": 4,
   "metadata": {},
   "outputs": [],
   "source": [
    "dealer = SimpleDealer(table, brain)"
   ]
  },
  {
   "cell_type": "code",
   "execution_count": 5,
   "metadata": {},
   "outputs": [
    {
     "name": "stdout",
     "output_type": "stream",
     "text": [
      "game  0  is finished!\n",
      "Warning! Some player didn`t any action!\n",
      "game  1  is finished!\n"
     ]
    }
   ],
   "source": [
    "n_games = 2\n",
    "\n",
    "dealer.game(n_games, num_players, 180, 1)"
   ]
  },
  {
   "cell_type": "code",
   "execution_count": null,
   "metadata": {},
   "outputs": [],
   "source": []
  }
 ],
 "metadata": {
  "kernelspec": {
   "display_name": "Python 3.8.13 ('poker')",
   "language": "python",
   "name": "python3"
  },
  "language_info": {
   "codemirror_mode": {
    "name": "ipython",
    "version": 3
   },
   "file_extension": ".py",
   "mimetype": "text/x-python",
   "name": "python",
   "nbconvert_exporter": "python",
   "pygments_lexer": "ipython3",
   "version": "3.8.13"
  },
  "orig_nbformat": 4,
  "vscode": {
   "interpreter": {
    "hash": "941ddece0b727abb90c75074ca5119195c0fcc502f0e8b0368b5c13152b170b2"
   }
  }
 },
 "nbformat": 4,
 "nbformat_minor": 2
}
