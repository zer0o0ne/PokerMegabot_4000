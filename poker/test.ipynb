{
 "cells": [
  {
   "cell_type": "code",
   "execution_count": 1,
   "metadata": {},
   "outputs": [],
   "source": [
    "from env.dealers import SimpleDealer\n",
    "from env.table import Table\n",
    "\n",
    "from player.agents import SimpleAgent\n",
    "from player.modules import *\n",
    "from player.brains import SimpleBrain, NeuralHistoryCompressor\n",
    "\n",
    "from utils import ConditionalExpectation_Loss"
   ]
  },
  {
   "cell_type": "code",
   "execution_count": 2,
   "metadata": {},
   "outputs": [],
   "source": [
    "num_players = 9\n",
    "num_agents = 12\n",
    "num_cards = 52 + 1\n",
    "bins = 12\n",
    "actions_dim = bins + 4\n",
    "embedding_hidden_dim = 6\n",
    "feedforward_dim = 24\n",
    "hidden_size = 36\n",
    "embedding_output_dim_table = 2 + 5 * embedding_hidden_dim + actions_dim\n",
    "embedding_output_dim_now = 3 + 7 * embedding_hidden_dim\n",
    "history_compressor_depth = 100\n",
    "start_credits = 1000\n",
    "\n",
    "memory_params = [\n",
    "    {\n",
    "        \"dim_source\" : hidden_size + actions_dim, \n",
    "        \"dim_target\" : hidden_size,\n",
    "        \"transformer_params\": {\n",
    "            \"d_model\": actions_dim, \n",
    "            \"nhead\": 4, \n",
    "            \"num_encoder_layers\": 2, \n",
    "            \"num_decoder_layers\": 2, \n",
    "            \"dim_feedforward\": feedforward_dim\n",
    "        }\n",
    "    },\n",
    "\n",
    "    {\n",
    "        \"dim_source\" : hidden_size + actions_dim, \n",
    "        \"dim_target\" : actions_dim,\n",
    "        \"transformer_params\": {\n",
    "            \"d_model\": actions_dim, \n",
    "            \"nhead\": 4, \n",
    "            \"num_encoder_layers\": 2, \n",
    "            \"num_decoder_layers\": 2, \n",
    "            \"dim_feedforward\": feedforward_dim\n",
    "        }\n",
    "    },\n",
    "]\n",
    "\n",
    "extractor_parameters = {\n",
    "    \"dim_source\" : embedding_output_dim_table, \n",
    "    \"dim_target\" : embedding_output_dim_now,\n",
    "    \"transformer_params\": {\n",
    "        \"d_model\": hidden_size, \n",
    "        \"nhead\": 4, \n",
    "        \"num_encoder_layers\": 2, \n",
    "        \"num_decoder_layers\": 2, \n",
    "        \"dim_feedforward\": feedforward_dim\n",
    "    }\n",
    "}\n",
    "\n",
    "functions = [Fourier, Fourier, Fourier]\n",
    "function_args = [\n",
    "    {\"dim_in\": embedding_hidden_dim * 3, \"depth\": 15},\n",
    "    {\"dim_in\": embedding_hidden_dim, \"depth\": 15},\n",
    "    {\"dim_in\": embedding_hidden_dim, \"depth\": 15},\n",
    "]\n",
    "\n",
    "agent_args = {\n",
    "    \"start_type\": TransformersInput,\n",
    "    \"start_args\" : {\n",
    "        \"first_args\" : {\n",
    "            \"dim_source\" : embedding_output_dim_table, \n",
    "            \"dim_target\" : embedding_output_dim_now,\n",
    "            \"transformer_params\": {\n",
    "                \"d_model\": hidden_size, \n",
    "                \"nhead\": 4, \n",
    "                \"num_encoder_layers\": 2, \n",
    "                \"num_decoder_layers\": 2, \n",
    "                \"dim_feedforward\": feedforward_dim\n",
    "            }\n",
    "        }, \n",
    "        \"second_args\" : {\n",
    "            \"dim_source\" : hidden_size + actions_dim, \n",
    "            \"dim_target\" : hidden_size,\n",
    "            \"transformer_params\": {\n",
    "                \"d_model\": hidden_size, \n",
    "                \"nhead\": 4, \n",
    "                \"num_encoder_layers\": 2, \n",
    "                \"num_decoder_layers\": 2, \n",
    "                \"dim_feedforward\": feedforward_dim\n",
    "            }\n",
    "        }\n",
    "    },\n",
    "\n",
    "    \"module_args\" : {\n",
    "        \"First_Numbered_MLP\" : {\n",
    "            \"dim_in\" : hidden_size * 2, \n",
    "            \"hidden_dim\" : hidden_size,\n",
    "            \"dim_out\" : actions_dim, \n",
    "            \"depth\" : 3, \n",
    "            \"num_agents\": num_agents\n",
    "        },\n",
    "        \n",
    "        \"FourierOutput\" : {\n",
    "            \"dim_in\" : actions_dim, \n",
    "            \"dim_encoder_output\": hidden_size * 2,\n",
    "            \"hidden_dim\" : hidden_size,\n",
    "            \"shapes\" : [[embedding_hidden_dim * 3, 15], [embedding_hidden_dim, 15], [embedding_hidden_dim, 15]], \n",
    "            \"depth\" : 3,\n",
    "            \"num_agents\": num_agents\n",
    "        }\n",
    "    },\n",
    "\n",
    "    \"modules\" : {\n",
    "        \"First_Numbered_MLP\" : Numbered_MLP,\n",
    "        \"FourierOutput\" : FourierOutput\n",
    "    }\n",
    "}"
   ]
  },
  {
   "cell_type": "code",
   "execution_count": 3,
   "metadata": {},
   "outputs": [],
   "source": [
    "table = Table(num_players, bins = bins)\n",
    "\n",
    "loss = ConditionalExpectation_Loss(start_credits, function_args, functions)\n",
    "memory = NeuralHistoryCompressor(num_agents, history_compressor_depth, memory_params, extractor_parameters, train_freq = 32)\n",
    "embedding = SimpleEmbedding(num_cards, embedding_hidden_dim, num_players, start_credits)\n",
    "\n",
    "brain = SimpleBrain(num_agents, loss, memory, SimpleAgent, embedding, agent_args)"
   ]
  },
  {
   "cell_type": "code",
   "execution_count": 4,
   "metadata": {},
   "outputs": [],
   "source": [
    "dealer = SimpleDealer(table, brain)"
   ]
  },
  {
   "cell_type": "code",
   "execution_count": 5,
   "metadata": {},
   "outputs": [
    {
     "name": "stdout",
     "output_type": "stream",
     "text": [
      "game  0  is finished!\n",
      "game  1  is finished!\n"
     ]
    },
    {
     "ename": "KeyboardInterrupt",
     "evalue": "",
     "output_type": "error",
     "traceback": [
      "\u001b[1;31m---------------------------------------------------------------------------\u001b[0m",
      "\u001b[1;31mKeyboardInterrupt\u001b[0m                         Traceback (most recent call last)",
      "\u001b[1;32mc:\\Users\\nikit\\python_projects\\PokerMegabot_4000\\poker\\test.ipynb Ячейка 5\u001b[0m in \u001b[0;36m<cell line: 3>\u001b[1;34m()\u001b[0m\n\u001b[0;32m      <a href='vscode-notebook-cell:/c%3A/Users/nikit/python_projects/PokerMegabot_4000/poker/test.ipynb#W4sZmlsZQ%3D%3D?line=0'>1</a>\u001b[0m n_games \u001b[39m=\u001b[39m \u001b[39m250\u001b[39m\n\u001b[1;32m----> <a href='vscode-notebook-cell:/c%3A/Users/nikit/python_projects/PokerMegabot_4000/poker/test.ipynb#W4sZmlsZQ%3D%3D?line=2'>3</a>\u001b[0m dealer\u001b[39m.\u001b[39;49mgame(n_games, num_players, \u001b[39m180\u001b[39;49m, \u001b[39m10\u001b[39;49m)\n",
      "File \u001b[1;32mc:\\Users\\nikit\\python_projects\\PokerMegabot_4000\\poker\\env\\dealers.py:17\u001b[0m, in \u001b[0;36mSimpleDealer.game\u001b[1;34m(self, n_games, n_players, relocation_freq, training_freq)\u001b[0m\n\u001b[0;32m     14\u001b[0m \u001b[39mif\u001b[39;00m game \u001b[39m%\u001b[39m relocation_freq \u001b[39m==\u001b[39m relocation_freq \u001b[39m-\u001b[39m \u001b[39m1\u001b[39m:\n\u001b[0;32m     15\u001b[0m     \u001b[39mself\u001b[39m\u001b[39m.\u001b[39mbrain\u001b[39m.\u001b[39msit(n_players)\n\u001b[1;32m---> 17\u001b[0m \u001b[39mself\u001b[39;49m\u001b[39m.\u001b[39;49mgame__()\n\u001b[0;32m     19\u001b[0m \u001b[39mif\u001b[39;00m game \u001b[39m%\u001b[39m training_freq \u001b[39m==\u001b[39m training_freq \u001b[39m-\u001b[39m \u001b[39m1\u001b[39m:\n\u001b[0;32m     20\u001b[0m     \u001b[39mself\u001b[39m\u001b[39m.\u001b[39mbrain\u001b[39m.\u001b[39moptimize()    \n",
      "File \u001b[1;32mc:\\Users\\nikit\\python_projects\\PokerMegabot_4000\\poker\\env\\dealers.py:35\u001b[0m, in \u001b[0;36mSimpleDealer.game__\u001b[1;34m(self)\u001b[0m\n\u001b[0;32m     33\u001b[0m step \u001b[39m=\u001b[39m \u001b[39m1\u001b[39m\n\u001b[0;32m     34\u001b[0m \u001b[39mwhile\u001b[39;00m \u001b[39mnot\u001b[39;00m end:\n\u001b[1;32m---> 35\u001b[0m     action \u001b[39m=\u001b[39m \u001b[39mself\u001b[39;49m\u001b[39m.\u001b[39;49mbrain\u001b[39m.\u001b[39;49mstep(\u001b[39mself\u001b[39;49m\u001b[39m.\u001b[39;49mtable\u001b[39m.\u001b[39;49mactive_player, env_state)\n\u001b[0;32m     36\u001b[0m     actions[\u001b[39mself\u001b[39m\u001b[39m.\u001b[39mtable\u001b[39m.\u001b[39mactive_player]\u001b[39m.\u001b[39mappend(action)\n\u001b[0;32m     37\u001b[0m     env_state \u001b[39m=\u001b[39m \u001b[39mself\u001b[39m\u001b[39m.\u001b[39mprepare_state(env_state, table_state, action[\u001b[39m\"\u001b[39m\u001b[39maction\u001b[39m\u001b[39m\"\u001b[39m])\n",
      "File \u001b[1;32mc:\\Users\\nikit\\python_projects\\PokerMegabot_4000\\poker\\player\\brains.py:45\u001b[0m, in \u001b[0;36mSimpleBrain.step\u001b[1;34m(self, position, env_state)\u001b[0m\n\u001b[0;32m     42\u001b[0m     start \u001b[39m=\u001b[39m [agent(module, start) \u001b[39mfor\u001b[39;00m agent \u001b[39min\u001b[39;00m \u001b[39mself\u001b[39m\u001b[39m.\u001b[39magents]\n\u001b[0;32m     44\u001b[0m finish \u001b[39m=\u001b[39m \u001b[39mself\u001b[39m\u001b[39m.\u001b[39magents[\u001b[39mself\u001b[39m\u001b[39m.\u001b[39mplayers[position]](\u001b[39mself\u001b[39m\u001b[39m.\u001b[39mmodules[\u001b[39m-\u001b[39m\u001b[39m1\u001b[39m], start)\n\u001b[1;32m---> 45\u001b[0m \u001b[39mself\u001b[39;49m\u001b[39m.\u001b[39;49mmemory\u001b[39m.\u001b[39;49marchive(env_state, finish[\u001b[39m\"\u001b[39;49m\u001b[39maction\u001b[39;49m\u001b[39m\"\u001b[39;49m], \u001b[39mself\u001b[39;49m\u001b[39m.\u001b[39;49mplayers[position])\n\u001b[0;32m     46\u001b[0m \u001b[39mreturn\u001b[39;00m finish\n",
      "File \u001b[1;32mc:\\Users\\nikit\\python_projects\\PokerMegabot_4000\\poker\\player\\brains.py:107\u001b[0m, in \u001b[0;36mNeuralHistoryCompressor.archive\u001b[1;34m(self, env_state, action, player)\u001b[0m\n\u001b[0;32m    105\u001b[0m     \u001b[39mself\u001b[39m\u001b[39m.\u001b[39mstories[player]\u001b[39m.\u001b[39mpopleft()\n\u001b[0;32m    106\u001b[0m \u001b[39mif\u001b[39;00m \u001b[39mself\u001b[39m\u001b[39m.\u001b[39mcount \u001b[39m==\u001b[39m \u001b[39m0\u001b[39m:\n\u001b[1;32m--> 107\u001b[0m     \u001b[39mself\u001b[39;49m\u001b[39m.\u001b[39;49mloss\u001b[39m.\u001b[39;49mbackward(inputs \u001b[39m=\u001b[39;49m \u001b[39mlist\u001b[39;49m(\u001b[39mself\u001b[39;49m\u001b[39m.\u001b[39;49mparameters()))\n\u001b[0;32m    108\u001b[0m     \u001b[39mself\u001b[39m\u001b[39m.\u001b[39moptimizer\u001b[39m.\u001b[39mstep()\n\u001b[0;32m    109\u001b[0m     \u001b[39mself\u001b[39m\u001b[39m.\u001b[39moptimizer\u001b[39m.\u001b[39mzero_grad()\n",
      "File \u001b[1;32mc:\\Users\\nikit\\anaconda3\\envs\\poker\\lib\\site-packages\\torch\\_tensor.py:363\u001b[0m, in \u001b[0;36mTensor.backward\u001b[1;34m(self, gradient, retain_graph, create_graph, inputs)\u001b[0m\n\u001b[0;32m    354\u001b[0m \u001b[39mif\u001b[39;00m has_torch_function_unary(\u001b[39mself\u001b[39m):\n\u001b[0;32m    355\u001b[0m     \u001b[39mreturn\u001b[39;00m handle_torch_function(\n\u001b[0;32m    356\u001b[0m         Tensor\u001b[39m.\u001b[39mbackward,\n\u001b[0;32m    357\u001b[0m         (\u001b[39mself\u001b[39m,),\n\u001b[1;32m   (...)\u001b[0m\n\u001b[0;32m    361\u001b[0m         create_graph\u001b[39m=\u001b[39mcreate_graph,\n\u001b[0;32m    362\u001b[0m         inputs\u001b[39m=\u001b[39minputs)\n\u001b[1;32m--> 363\u001b[0m torch\u001b[39m.\u001b[39;49mautograd\u001b[39m.\u001b[39;49mbackward(\u001b[39mself\u001b[39;49m, gradient, retain_graph, create_graph, inputs\u001b[39m=\u001b[39;49minputs)\n",
      "File \u001b[1;32mc:\\Users\\nikit\\anaconda3\\envs\\poker\\lib\\site-packages\\torch\\autograd\\__init__.py:173\u001b[0m, in \u001b[0;36mbackward\u001b[1;34m(tensors, grad_tensors, retain_graph, create_graph, grad_variables, inputs)\u001b[0m\n\u001b[0;32m    168\u001b[0m     retain_graph \u001b[39m=\u001b[39m create_graph\n\u001b[0;32m    170\u001b[0m \u001b[39m# The reason we repeat same the comment below is that\u001b[39;00m\n\u001b[0;32m    171\u001b[0m \u001b[39m# some Python versions print out the first line of a multi-line function\u001b[39;00m\n\u001b[0;32m    172\u001b[0m \u001b[39m# calls in the traceback and some print out the last line\u001b[39;00m\n\u001b[1;32m--> 173\u001b[0m Variable\u001b[39m.\u001b[39;49m_execution_engine\u001b[39m.\u001b[39;49mrun_backward(  \u001b[39m# Calls into the C++ engine to run the backward pass\u001b[39;49;00m\n\u001b[0;32m    174\u001b[0m     tensors, grad_tensors_, retain_graph, create_graph, inputs,\n\u001b[0;32m    175\u001b[0m     allow_unreachable\u001b[39m=\u001b[39;49m\u001b[39mTrue\u001b[39;49;00m, accumulate_grad\u001b[39m=\u001b[39;49m\u001b[39mTrue\u001b[39;49;00m)\n",
      "\u001b[1;31mKeyboardInterrupt\u001b[0m: "
     ]
    }
   ],
   "source": [
    "n_games = 250\n",
    "\n",
    "dealer.game(n_games, num_players, 180, 10)"
   ]
  },
  {
   "cell_type": "code",
   "execution_count": null,
   "metadata": {},
   "outputs": [],
   "source": []
  }
 ],
 "metadata": {
  "kernelspec": {
   "display_name": "Python 3.8.13 ('poker')",
   "language": "python",
   "name": "python3"
  },
  "language_info": {
   "codemirror_mode": {
    "name": "ipython",
    "version": 3
   },
   "file_extension": ".py",
   "mimetype": "text/x-python",
   "name": "python",
   "nbconvert_exporter": "python",
   "pygments_lexer": "ipython3",
   "version": "3.8.13"
  },
  "orig_nbformat": 4,
  "vscode": {
   "interpreter": {
    "hash": "941ddece0b727abb90c75074ca5119195c0fcc502f0e8b0368b5c13152b170b2"
   }
  }
 },
 "nbformat": 4,
 "nbformat_minor": 2
}
